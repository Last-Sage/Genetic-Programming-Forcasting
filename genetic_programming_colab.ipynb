{
  "cells": [
    {
      "cell_type": "markdown",
      "metadata": {
        "id": "view-in-github",
        "colab_type": "text"
      },
      "source": [
        "<a href=\"https://colab.research.google.com/github/Last-Sage/Genetic-Programming-Forcasting/blob/main/genetic_programming_colab.ipynb\" target=\"_parent\"><img src=\"https://colab.research.google.com/assets/colab-badge.svg\" alt=\"Open In Colab\"/></a>"
      ]
    },
    {
      "cell_type": "code",
      "source": [
        "## Run this cell only once ##\n",
        "\n",
        "!git clone https://github.com/Last-Sage/Genetic-Programming-Forcasting.git\n",
        "%cd Genetic-Programming-Forcasting"
      ],
      "metadata": {
        "id": "tEf7biWziSON"
      },
      "id": "tEf7biWziSON",
      "execution_count": null,
      "outputs": []
    },
    {
      "cell_type": "code",
      "execution_count": null,
      "id": "e122a4e1",
      "metadata": {
        "collapsed": true,
        "id": "e122a4e1"
      },
      "outputs": [],
      "source": [
        "# Run this cell to install necessary modules.\n",
        "\n",
        "!pip install matplotlib deap numpy pandas scikit-learn"
      ]
    },
    {
      "cell_type": "markdown",
      "source": [
        "## Above cell can be skipped if modules are already installed in the system."
      ],
      "metadata": {
        "id": "j-y6qT7AifWs"
      },
      "id": "j-y6qT7AifWs"
    },
    {
      "cell_type": "code",
      "execution_count": null,
      "id": "bf5b11df",
      "metadata": {
        "id": "bf5b11df"
      },
      "outputs": [],
      "source": [
        "## Import modules\n",
        "\n",
        "import csv\n",
        "import random\n",
        "import operator\n",
        "import matplotlib.pyplot as plt\n",
        "from deap import base, creator, tools, gp, algorithms\n",
        "import numpy as np\n",
        "import pandas as pd\n",
        "from sklearn.metrics import r2_score"
      ]
    },
    {
      "cell_type": "markdown",
      "id": "e4e5d980",
      "metadata": {
        "id": "e4e5d980"
      },
      "source": [
        "## Load data\n",
        "\n",
        "This cell loads the data for training the model and testing it. Data should be provided in csv format with fields {sales, price, discount, advertisement}.\n",
        "\n",
        "   (Add the path to files on train_data and test_data)"
      ]
    },
    {
      "cell_type": "code",
      "execution_count": null,
      "id": "5bdeb33a",
      "metadata": {
        "id": "5bdeb33a"
      },
      "outputs": [],
      "source": [
        "# Load training and testing data\n",
        "\n",
        "def load_data(file_name):\n",
        "    data = []\n",
        "    with open(file_name, 'r') as file:\n",
        "        reader = csv.DictReader(file)\n",
        "        for row in reader:\n",
        "            data.append({\n",
        "                'sales': float(row['sales']),\n",
        "                'price': float(row['price']),\n",
        "                'discount': float(row['discount']),\n",
        "                'advertisement': float(row['advertisement']),\n",
        "                'cost': float(row['cost'])\n",
        "            })\n",
        "    return data\n",
        "\n",
        "train_data = pd.read_csv(r\"/content/Genetic-Programming-Forcasting/sample_data_for_training.csv\") ## Add file path to training data csv file here\n",
        "test_data = pd.read_csv(r\"/content/Genetic-Programming-Forcasting/sample_data_for_testing.csv\")  ## Add file path to training data csv file here"
      ]
    },
    {
      "cell_type": "markdown",
      "id": "c2e3cd81",
      "metadata": {
        "id": "c2e3cd81"
      },
      "source": [
        "## Genetic programming settings\n",
        "\n",
        "Adjust the basic genetic programming attributes here.\n",
        "\n",
        "    Individual Size\n",
        "    Population Size\n",
        "    Number of generations"
      ]
    },
    {
      "cell_type": "code",
      "execution_count": null,
      "id": "ca40e316",
      "metadata": {
        "id": "ca40e316"
      },
      "outputs": [],
      "source": [
        "# Genetic programming settings\n",
        "individual_size = 50\n",
        "population_size = 500\n",
        "generations = 15\n",
        "toolbox = base.Toolbox()\n",
        "\n",
        "pset = gp.PrimitiveSet(\"MAIN\", 4)\n",
        "pset.addPrimitive(operator.add, 2)\n",
        "pset.addPrimitive(operator.sub, 2)\n",
        "pset.addPrimitive(operator.mul, 2)\n",
        "pset.addPrimitive(operator.truediv, 2)\n",
        "\n",
        "# Fields\n",
        "toolbox.register(\"attr_price\", random.uniform, -10, 10)\n",
        "toolbox.register(\"attr_discount\", random.uniform, -10, 10)\n",
        "toolbox.register(\"attr_advertisement\", random.uniform, -10, 10)\n",
        "toolbox.register(\"attr_cost\", random.uniform, -10, 10)\n",
        "\n",
        "# Operations\n",
        "toolbox.register(\"add\", operator.add)\n",
        "toolbox.register(\"sub\", operator.sub)\n",
        "toolbox.register(\"mul\", operator.mul)\n",
        "toolbox.register(\"div\", operator.truediv)\n",
        "\n",
        "# Function set\n",
        "toolbox.register(\"expr\", gp.genHalfAndHalf, pset=pset, min_=1, max_=4)\n",
        "creator.create(\"FitnessMin\", base.Fitness, weights=(-1.0,))\n",
        "creator.create(\"Individual\", gp.PrimitiveTree, fitness=creator.FitnessMin)\n",
        "toolbox.register(\"individual\", tools.initIterate, creator.Individual, toolbox.expr)\n",
        "toolbox.register(\"population\", tools.initRepeat, list, toolbox.individual)\n"
      ]
    },
    {
      "cell_type": "markdown",
      "id": "6105a342",
      "metadata": {
        "id": "6105a342"
      },
      "source": [
        "## Fitness function"
      ]
    },
    {
      "cell_type": "code",
      "execution_count": null,
      "id": "985ebe20",
      "metadata": {
        "id": "985ebe20"
      },
      "outputs": [],
      "source": [
        "# Fitness function\n",
        "def eval_sales(individual, data):\n",
        "    fitness = 0\n",
        "    for sales, price, discount, advertisement, cost in zip(data['sales'], data['price'], data['discount'], data['advertisement'], data['cost']):\n",
        "        code = compile(str(individual), '<string>', 'eval')\n",
        "        globals_dict = {}\n",
        "        locals_dict = {\n",
        "            'truediv': lambda x, y: x / (y + 1e-9),\n",
        "            'sub': operator.sub,\n",
        "            'add': operator.add,\n",
        "            'mul': operator.mul,\n",
        "            'ARG0': price,\n",
        "            'ARG1': discount,\n",
        "            'ARG2': advertisement,\n",
        "            'ARG3': cost\n",
        "        }\n",
        "        try:\n",
        "            prediction = eval(code, globals_dict, locals_dict)\n",
        "        except Exception as e:\n",
        "            print(\"Error evaluating individual: \", e)\n",
        "            prediction = 0\n",
        "        fitness += (sales - prediction) ** 2\n",
        "        # Add a penalty term for solutions that only use ARG0\n",
        "        if 'ARG1' not in str(individual) and 'ARG2' not in str(individual) and 'ARG3' not in str(individual):\n",
        "            fitness += 100\n",
        "    return (fitness,)"
      ]
    },
    {
      "cell_type": "code",
      "execution_count": null,
      "id": "cca55582",
      "metadata": {
        "id": "cca55582"
      },
      "outputs": [],
      "source": [
        "# Register the fitness function\n",
        "toolbox.register(\"evaluate\", eval_sales, data=train_data)\n",
        "\n",
        "# Register the mate, mutate, and select functions\n",
        "toolbox.register(\"mate\", gp.cxOnePoint)\n",
        "toolbox.register(\"mutate\", gp.mutUniform, expr=toolbox.expr, pset=pset)\n",
        "toolbox.register(\"select\", tools.selTournament, tournsize=100) ## Edit 'tournsize' to specify the tournament size\n"
      ]
    },
    {
      "cell_type": "markdown",
      "id": "043021e7",
      "metadata": {
        "id": "043021e7"
      },
      "source": [
        "## Functions for visualisation\n",
        "\n",
        "Function to visualise training data and predictions on trained data. modify this section to change graph type, colours, legend or other related settings."
      ]
    },
    {
      "cell_type": "code",
      "execution_count": null,
      "id": "44f97219",
      "metadata": {
        "id": "44f97219"
      },
      "outputs": [],
      "source": [
        "def visualize_data(data, title):\n",
        "    plt.scatter(data['price'], data['discount'], c=data['sales'])\n",
        "    plt.xlabel('Price')\n",
        "    plt.ylabel('Discount')\n",
        "    plt.title(title)\n",
        "    plt.show()\n",
        "\n",
        "def visualize_predictions(actual, predicted, title):\n",
        "    plt.plot(actual, label='Actual Sales')\n",
        "    plt.plot(predicted, label='Predicted Sales')\n",
        "    plt.xlabel('Index')\n",
        "    plt.ylabel('Sales')\n",
        "    plt.title(title)\n",
        "    plt.legend()\n",
        "    plt.show()"
      ]
    },
    {
      "cell_type": "code",
      "execution_count": null,
      "id": "74f8a7a8",
      "metadata": {
        "id": "74f8a7a8"
      },
      "outputs": [],
      "source": [
        "## Visualize the training data and testing data\n",
        "\n",
        "# This cell is only for visualising the training data if necessary.\n",
        "\n",
        "visualize_data(train_data, 'Training Data')\n",
        "visualize_data(test_data, 'Testing Data')"
      ]
    },
    {
      "cell_type": "markdown",
      "id": "57d49a81",
      "metadata": {
        "id": "57d49a81"
      },
      "source": [
        "## Run the Genetic Programming\n",
        "\n",
        "To set the crossover probabilty edit the 'cxpb' variable.\n",
        "To set mutation probability edit 'mutpb' variable.\n",
        "Rest of the percentage remaining after setting crossover and mutation is selected as elite probability."
      ]
    },
    {
      "cell_type": "code",
      "execution_count": null,
      "id": "2dfb4404",
      "metadata": {
        "id": "2dfb4404"
      },
      "outputs": [],
      "source": [
        "def main():\n",
        "    random.seed(64)\n",
        "\n",
        "    pop = toolbox.population(n=population_size)\n",
        "    hof = tools.HallOfFame(1)\n",
        "    stats = tools.Statistics(lambda ind: ind.fitness.values)\n",
        "    stats.register(\"Avg\", np.mean)\n",
        "    stats.register(\"Std\", np.std)\n",
        "    stats.register(\"Min\", np.min)\n",
        "    stats.register(\"Max\", np.max)\n",
        "\n",
        "    ## Edit here to set crossover, mutation annd elite probability\n",
        "    pop, log = algorithms.eaSimple(pop, toolbox, cxpb=0.8, mutpb=0.1, ngen=generations, stats=stats, halloffame=hof, verbose=True)\n",
        "\n",
        "    print(\"Best individual is: %s\\nwith fitness: %s\" % (hof[0], hof[0].fitness))\n",
        "\n",
        "    return pop, log, hof\n",
        "\n",
        "if __name__ == \"__main__\":\n",
        "    pop, log, hof = main()\n",
        "    # print ('hof is ', hof)\n",
        "\n",
        "# Predict sales using the best individual on test_data\n",
        "def predict_sales(best_individual, data):\n",
        "    predictions = []\n",
        "    for price, discount, advertisement, cost in zip(data['price'], data['discount'], data['advertisement'], data['cost']):\n",
        "        code = compile(str(best_individual), '<string>', 'eval')\n",
        "        globals_dict = {'truediv': lambda x, y: x / (y + 1e-9),\n",
        "                        'sub': operator.sub,\n",
        "                        'add': operator.add,\n",
        "                        'mul': operator.mul}\n",
        "        locals_dict = {'ARG0': price, 'ARG1': discount, 'ARG2': advertisement, 'ARG3': cost}\n",
        "        try:\n",
        "            prediction = eval(code, globals_dict, locals_dict)\n",
        "        except Exception as e:\n",
        "            print(\"Error predicting sales: \", e)\n",
        "            prediction = 0\n",
        "        predictions.append(prediction)\n",
        "    return predictions"
      ]
    },
    {
      "cell_type": "markdown",
      "id": "9b4bcab1",
      "metadata": {
        "id": "9b4bcab1"
      },
      "source": [
        "## Predict sales on test_data\n",
        "\n",
        "Using the best generated individual got from training the genetic programming model with training data."
      ]
    },
    {
      "cell_type": "code",
      "execution_count": null,
      "id": "a13ac8b3",
      "metadata": {
        "id": "a13ac8b3"
      },
      "outputs": [],
      "source": [
        "# Predict sales\n",
        "predictions = predict_sales(hof[0], test_data)\n",
        "actual_sales = test_data['sales']\n"
      ]
    },
    {
      "cell_type": "markdown",
      "id": "820c64a7",
      "metadata": {
        "id": "820c64a7"
      },
      "source": [
        "## Plot the predictions\n",
        "\n",
        "As bar line graph using visualise function"
      ]
    },
    {
      "cell_type": "code",
      "execution_count": null,
      "id": "0703ed76",
      "metadata": {
        "id": "0703ed76"
      },
      "outputs": [],
      "source": [
        "# Visualize the predictions\n",
        "visualize_predictions(actual_sales, predictions, 'Predicted vs Actual Sales')"
      ]
    },
    {
      "cell_type": "markdown",
      "id": "bd79a4e4",
      "metadata": {
        "id": "bd79a4e4"
      },
      "source": [
        "## Analyse the results\n",
        "\n",
        "Analyse the prediction with various error metrics"
      ]
    },
    {
      "cell_type": "code",
      "execution_count": null,
      "id": "e9efdff0",
      "metadata": {
        "scrolled": true,
        "id": "e9efdff0"
      },
      "outputs": [],
      "source": [
        "# Compare predicted sales with actual sales in test_data\n",
        "mse = ((actual_sales - predictions) ** 2).mean()\n",
        "r2 = r2_score(actual_sales, predictions)\n",
        "mae = np.mean(np.abs(actual_sales - predictions))\n",
        "rmse = np.sqrt(np.mean((actual_sales - predictions) ** 2))\n",
        "mpe = np.mean(np.abs((actual_sales - predictions) / actual_sales)) * 100\n",
        "mape = np.mean(np.abs((actual_sales - predictions) / actual_sales)) * 100\n",
        "rmspe = np.sqrt(np.mean(((actual_sales - predictions) / actual_sales) ** 2)) * 100\n",
        "cv = np.std(predictions) / np.mean(predictions)\n",
        "\n",
        "\n",
        "print(f\"Mean squared error between predicted and actual sales: {mse}\")\n",
        "print(f\"R-squared value between predicted and actual sales: {r2}\")\n",
        "print(f\"MAE between predicted and actual sales: {mae}\")\n",
        "print(f\"RMSE between predicted and actual sales: {rmse}\")\n",
        "print(f\"MPE between predicted and actual sales: {mpe}%\")\n",
        "print(f\"MAPE between predicted and actual sales: {mape}%\")\n",
        "print(f\"RMSPE between predicted and actual sales: {rmspe}%\")\n",
        "print(f\"CV of prediction: {cv}\")"
      ]
    },
    {
      "cell_type": "code",
      "execution_count": null,
      "id": "78fa08f8",
      "metadata": {
        "id": "78fa08f8"
      },
      "outputs": [],
      "source": []
    }
  ],
  "metadata": {
    "kernelspec": {
      "display_name": "Python 3 (ipykernel)",
      "language": "python",
      "name": "python3"
    },
    "language_info": {
      "codemirror_mode": {
        "name": "ipython",
        "version": 3
      },
      "file_extension": ".py",
      "mimetype": "text/x-python",
      "name": "python",
      "nbconvert_exporter": "python",
      "pygments_lexer": "ipython3",
      "version": "3.11.5"
    },
    "colab": {
      "provenance": [],
      "include_colab_link": true
    }
  },
  "nbformat": 4,
  "nbformat_minor": 5
}