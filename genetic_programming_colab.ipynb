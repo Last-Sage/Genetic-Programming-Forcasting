{
  "cells": [
    {
      "cell_type": "markdown",
      "metadata": {
        "id": "view-in-github",
        "colab_type": "text"
      },
      "source": [
        "<a href=\"https://colab.research.google.com/github/Last-Sage/Genetic-Programming-Forcasting/blob/main/genetic_programming_colab.ipynb\" target=\"_parent\"><img src=\"https://colab.research.google.com/assets/colab-badge.svg\" alt=\"Open In Colab\"/></a>"
      ]
    },
    {
      "cell_type": "code",
      "source": [
        "## Run this cell only once ##\n",
        "\n",
        "!git clone https://github.com/Last-Sage/Genetic-Programming-Forcasting.git\n",
        "%cd Genetic-Programming-Forcasting"
      ],
      "metadata": {
        "id": "tEf7biWziSON",
        "colab": {
          "base_uri": "https://localhost:8080/"
        },
        "outputId": "d80b88d1-45e0-4cf7-a900-ebf31aac5181"
      },
      "id": "tEf7biWziSON",
      "execution_count": 1,
      "outputs": [
        {
          "output_type": "stream",
          "name": "stdout",
          "text": [
            "Cloning into 'Genetic-Programming-Forcasting'...\n",
            "remote: Enumerating objects: 15, done.\u001b[K\n",
            "remote: Counting objects: 100% (15/15), done.\u001b[K\n",
            "remote: Compressing objects: 100% (14/14), done.\u001b[K\n",
            "remote: Total 15 (delta 3), reused 13 (delta 1), pack-reused 0\u001b[K\n",
            "Receiving objects: 100% (15/15), 7.35 KiB | 7.35 MiB/s, done.\n",
            "Resolving deltas: 100% (3/3), done.\n",
            "/content/Genetic-Programming-Forcasting\n"
          ]
        }
      ]
    },
    {
      "cell_type": "code",
      "execution_count": 1,
      "id": "e122a4e1",
      "metadata": {
        "collapsed": true,
        "id": "e122a4e1",
        "colab": {
          "base_uri": "https://localhost:8080/"
        },
        "outputId": "2dae6bc0-0a4a-41ea-c9b8-fbe8ae88b28e"
      },
      "outputs": [
        {
          "output_type": "stream",
          "name": "stdout",
          "text": [
            "Requirement already satisfied: matplotlib in /usr/local/lib/python3.10/dist-packages (3.7.1)\n",
            "Requirement already satisfied: deap in /usr/local/lib/python3.10/dist-packages (1.4.1)\n",
            "Requirement already satisfied: numpy in /usr/local/lib/python3.10/dist-packages (1.25.2)\n",
            "Requirement already satisfied: pandas in /usr/local/lib/python3.10/dist-packages (2.0.3)\n",
            "Requirement already satisfied: scikit-learn in /usr/local/lib/python3.10/dist-packages (1.2.2)\n",
            "Requirement already satisfied: contourpy>=1.0.1 in /usr/local/lib/python3.10/dist-packages (from matplotlib) (1.2.1)\n",
            "Requirement already satisfied: cycler>=0.10 in /usr/local/lib/python3.10/dist-packages (from matplotlib) (0.12.1)\n",
            "Requirement already satisfied: fonttools>=4.22.0 in /usr/local/lib/python3.10/dist-packages (from matplotlib) (4.51.0)\n",
            "Requirement already satisfied: kiwisolver>=1.0.1 in /usr/local/lib/python3.10/dist-packages (from matplotlib) (1.4.5)\n",
            "Requirement already satisfied: packaging>=20.0 in /usr/local/lib/python3.10/dist-packages (from matplotlib) (24.0)\n",
            "Requirement already satisfied: pillow>=6.2.0 in /usr/local/lib/python3.10/dist-packages (from matplotlib) (9.4.0)\n",
            "Requirement already satisfied: pyparsing>=2.3.1 in /usr/local/lib/python3.10/dist-packages (from matplotlib) (3.1.2)\n",
            "Requirement already satisfied: python-dateutil>=2.7 in /usr/local/lib/python3.10/dist-packages (from matplotlib) (2.8.2)\n",
            "Requirement already satisfied: pytz>=2020.1 in /usr/local/lib/python3.10/dist-packages (from pandas) (2023.4)\n",
            "Requirement already satisfied: tzdata>=2022.1 in /usr/local/lib/python3.10/dist-packages (from pandas) (2024.1)\n",
            "Requirement already satisfied: scipy>=1.3.2 in /usr/local/lib/python3.10/dist-packages (from scikit-learn) (1.11.4)\n",
            "Requirement already satisfied: joblib>=1.1.1 in /usr/local/lib/python3.10/dist-packages (from scikit-learn) (1.4.2)\n",
            "Requirement already satisfied: threadpoolctl>=2.0.0 in /usr/local/lib/python3.10/dist-packages (from scikit-learn) (3.5.0)\n",
            "Requirement already satisfied: six>=1.5 in /usr/local/lib/python3.10/dist-packages (from python-dateutil>=2.7->matplotlib) (1.16.0)\n"
          ]
        }
      ],
      "source": [
        "# Run this cell to install necessary modules.\n",
        "\n",
        "!pip install matplotlib deap numpy pandas scikit-learn"
      ]
    },
    {
      "cell_type": "markdown",
      "source": [
        "## Above cell can be skipped if modules are already installed in the system."
      ],
      "metadata": {
        "id": "j-y6qT7AifWs"
      },
      "id": "j-y6qT7AifWs"
    },
    {
      "cell_type": "code",
      "execution_count": 2,
      "id": "bf5b11df",
      "metadata": {
        "id": "bf5b11df"
      },
      "outputs": [],
      "source": [
        "## Import modules\n",
        "\n",
        "import csv\n",
        "import random\n",
        "import operator\n",
        "import matplotlib.pyplot as plt\n",
        "from deap import base, creator, tools, gp, algorithms\n",
        "import numpy as np\n",
        "import pandas as pd\n",
        "from sklearn.metrics import r2_score"
      ]
    },
    {
      "cell_type": "markdown",
      "id": "e4e5d980",
      "metadata": {
        "id": "e4e5d980"
      },
      "source": [
        "## Load data\n",
        "\n",
        "This cell loads the data for training the model and testing it. Data should be provided in csv format with fields {sales, price, discount, advertisement}.\n",
        "\n",
        "   (Add the path to files on train_data and test_data)"
      ]
    },
    {
      "cell_type": "code",
      "execution_count": 4,
      "id": "5bdeb33a",
      "metadata": {
        "id": "5bdeb33a"
      },
      "outputs": [],
      "source": [
        "# Load training and testing data\n",
        "\n",
        "def load_data(file_name):\n",
        "    data = []\n",
        "    with open(file_name, 'r') as file:\n",
        "        reader = csv.DictReader(file)\n",
        "        for row in reader:\n",
        "            data.append({\n",
        "                'sales': float(row['sales']),\n",
        "                'price': float(row['price']),\n",
        "                'discount': float(row['discount']),\n",
        "                'advertisement': float(row['advertisement']),\n",
        "                'cost': float(row['cost'])\n",
        "            })\n",
        "    return data\n",
        "\n",
        "train_data = pd.read_csv(r\"/content/Genetic-Programming-Forcasting/sample_data_for_training.csv\") ## Add file path to training data csv file here\n",
        "test_data = pd.read_csv(r\"/content/Genetic-Programming-Forcasting/sample_data_for_testing.csv\")  ## Add file path to training data csv file here"
      ]
    },
    {
      "cell_type": "markdown",
      "id": "c2e3cd81",
      "metadata": {
        "id": "c2e3cd81"
      },
      "source": [
        "## Genetic programming settings\n",
        "\n",
        "Adjust the basic genetic programming attributes here.\n",
        "\n",
        "    Individual Size\n",
        "    Population Size\n",
        "    Number of generations"
      ]
    },
    {
      "cell_type": "code",
      "execution_count": 5,
      "id": "ca40e316",
      "metadata": {
        "id": "ca40e316"
      },
      "outputs": [],
      "source": [
        "# Genetic programming settings\n",
        "individual_size = 50\n",
        "population_size = 500\n",
        "generations = 15\n",
        "toolbox = base.Toolbox()\n",
        "\n",
        "pset = gp.PrimitiveSet(\"MAIN\", 4)\n",
        "pset.addPrimitive(operator.add, 2)\n",
        "pset.addPrimitive(operator.sub, 2)\n",
        "pset.addPrimitive(operator.mul, 2)\n",
        "pset.addPrimitive(operator.truediv, 2)\n",
        "\n",
        "# Fields\n",
        "toolbox.register(\"attr_price\", random.uniform, -10, 10)\n",
        "toolbox.register(\"attr_discount\", random.uniform, -10, 10)\n",
        "toolbox.register(\"attr_advertisement\", random.uniform, -10, 10)\n",
        "toolbox.register(\"attr_cost\", random.uniform, -10, 10)\n",
        "\n",
        "# Operations\n",
        "toolbox.register(\"add\", operator.add)\n",
        "toolbox.register(\"sub\", operator.sub)\n",
        "toolbox.register(\"mul\", operator.mul)\n",
        "toolbox.register(\"div\", operator.truediv)\n",
        "\n",
        "# Function set\n",
        "toolbox.register(\"expr\", gp.genHalfAndHalf, pset=pset, min_=1, max_=4)\n",
        "creator.create(\"FitnessMin\", base.Fitness, weights=(-1.0,))\n",
        "creator.create(\"Individual\", gp.PrimitiveTree, fitness=creator.FitnessMin)\n",
        "toolbox.register(\"individual\", tools.initIterate, creator.Individual, toolbox.expr)\n",
        "toolbox.register(\"population\", tools.initRepeat, list, toolbox.individual)\n"
      ]
    },
    {
      "cell_type": "markdown",
      "id": "6105a342",
      "metadata": {
        "id": "6105a342"
      },
      "source": [
        "## Fitness function"
      ]
    },
    {
      "cell_type": "code",
      "execution_count": 6,
      "id": "985ebe20",
      "metadata": {
        "id": "985ebe20"
      },
      "outputs": [],
      "source": [
        "# Fitness function\n",
        "def eval_sales(individual, data):\n",
        "    fitness = 0\n",
        "    for sales, price, discount, advertisement, cost in zip(data['sales'], data['price'], data['discount'], data['advertisement'], data['cost']):\n",
        "        code = compile(str(individual), '<string>', 'eval')\n",
        "        globals_dict = {}\n",
        "        locals_dict = {\n",
        "            'truediv': lambda x, y: x / (y + 1e-9),\n",
        "            'sub': operator.sub,\n",
        "            'add': operator.add,\n",
        "            'mul': operator.mul,\n",
        "            'ARG0': price,\n",
        "            'ARG1': discount,\n",
        "            'ARG2': advertisement,\n",
        "            'ARG3': cost\n",
        "        }\n",
        "        try:\n",
        "            prediction = eval(code, globals_dict, locals_dict)\n",
        "        except Exception as e:\n",
        "            print(\"Error evaluating individual: \", e)\n",
        "            prediction = 0\n",
        "        fitness += (sales - prediction) ** 2\n",
        "        # Add a penalty term for solutions that only use ARG0\n",
        "        if 'ARG1' not in str(individual) and 'ARG2' not in str(individual) and 'ARG3' not in str(individual):\n",
        "            fitness += 100\n",
        "    return (fitness,)"
      ]
    },
    {
      "cell_type": "code",
      "execution_count": 7,
      "id": "cca55582",
      "metadata": {
        "id": "cca55582"
      },
      "outputs": [],
      "source": [
        "# Register the fitness function\n",
        "toolbox.register(\"evaluate\", eval_sales, data=train_data)\n",
        "\n",
        "# Register the mate, mutate, and select functions\n",
        "toolbox.register(\"mate\", gp.cxOnePoint)\n",
        "toolbox.register(\"mutate\", gp.mutUniform, expr=toolbox.expr, pset=pset)\n",
        "toolbox.register(\"select\", tools.selTournament, tournsize=100) ## Edit 'tournsize' to specify the tournament size\n"
      ]
    },
    {
      "cell_type": "markdown",
      "id": "043021e7",
      "metadata": {
        "id": "043021e7"
      },
      "source": [
        "## Functions for visualisation\n",
        "\n",
        "Function to visualise training data and predictions on trained data. modify this section to change graph type, colours, legend or other related settings."
      ]
    },
    {
      "cell_type": "code",
      "execution_count": 8,
      "id": "44f97219",
      "metadata": {
        "id": "44f97219"
      },
      "outputs": [],
      "source": [
        "def visualize_data(data, title):\n",
        "    plt.scatter(data['price'], data['discount'], c=data['sales'])\n",
        "    plt.xlabel('Price')\n",
        "    plt.ylabel('Discount')\n",
        "    plt.title(title)\n",
        "    plt.show()\n",
        "\n",
        "def visualize_predictions(actual, predicted, title):\n",
        "    plt.plot(actual, label='Actual Sales')\n",
        "    plt.plot(predicted, label='Predicted Sales')\n",
        "    plt.xlabel('Index')\n",
        "    plt.ylabel('Sales')\n",
        "    plt.title(title)\n",
        "    plt.legend()\n",
        "    plt.show()"
      ]
    },
    {
      "cell_type": "code",
      "execution_count": 9,
      "id": "74f8a7a8",
      "metadata": {
        "id": "74f8a7a8",
        "colab": {
          "base_uri": "https://localhost:8080/",
          "height": 927
        },
        "outputId": "c96b29f4-0bae-436f-f531-643747eef35d"
      },
      "outputs": [
        {
          "output_type": "display_data",
          "data": {
            "text/plain": [
              "<Figure size 640x480 with 1 Axes>"
            ],
            "image/png": "[encoded data removed]"
          },
          "metadata": {}
        },
        {
          "output_type": "display_data",
          "data": {
            "text/plain": [
              "<Figure size 640x480 with 1 Axes>"
            ],
            "image/png": "[encoded data removed]"
          },
          "metadata": {}
        }
      ],
      "source": [
        "## Visualize the training data and testing data\n",
        "\n",
        "# This cell is only for visualising the training data if necessary.\n",
        "\n",
        "visualize_data(train_data, 'Training Data')\n",
        "visualize_data(test_data, 'Testing Data')"
      ]
    },
    {
      "cell_type": "markdown",
      "id": "57d49a81",
      "metadata": {
        "id": "57d49a81"
      },
      "source": [
        "## Run the Genetic Programming\n",
        "\n",
        "To set the crossover probabilty edit the 'cxpb' variable.\n",
        "To set mutation probability edit 'mutpb' variable.\n",
        "Rest of the percentage remaining after setting crossover and mutation is selected as elite probability."
      ]
    },
    {
      "cell_type": "code",
      "execution_count": 10,
      "id": "2dfb4404",
      "metadata": {
        "id": "2dfb4404",
        "colab": {
          "base_uri": "https://localhost:8080/"
        },
        "outputId": "710374e3-f55b-439c-fa23-41c5c84cc46c"
      },
      "outputs": [
        {
          "output_type": "stream",
          "name": "stdout",
          "text": [
            "gen\tnevals\tAvg        \tStd        \tMin    \tMax        \n",
            "0  \t500   \t1.45684e+50\t3.25431e+51\t8035.46\t7.28414e+52\n",
            "1  \t397   \t8.4527e+38 \t1.8857e+40 \t4509.88\t4.22078e+41\n",
            "2  \t419   \t2.87564e+26\t6.4237e+27 \t4509.88\t1.43782e+29\n",
            "3  \t397   \t6.5167e+24 \t1.42514e+26\t4509.88\t3.18931e+27\n",
            "4  \t398   \t2.87564e+44\t6.4237e+45 \t4509.88\t1.43782e+47\n",
            "5  \t412   \t1.18017e+44\t2.63631e+45\t4353.07\t5.90087e+46\n",
            "6  \t411   \t6.07901e+49\t1.35795e+51\t4178.15\t3.0395e+52 \n",
            "7  \t413   \t2.31382e+23\t4.58019e+24\t4065   \t1.01994e+26\n",
            "8  \t405   \t3.93758e+21\t3.88878e+22\t4045.39\t4.33477e+23\n",
            "9  \t400   \t1.82071e+23\t2.74599e+24\t3979.56\t5.75128e+25\n",
            "10 \t411   \t8.46823e+27\t1.89162e+29\t3930.39\t4.23404e+30\n",
            "11 \t409   \t4.43354e+28\t9.90176e+29\t3882.8 \t2.21632e+31\n",
            "12 \t406   \t8.2166e+38 \t1.83545e+40\t3867.28\t4.1083e+41 \n",
            "13 \t408   \t2.29933e+40\t5.05199e+41\t3809.58\t1.13067e+43\n",
            "14 \t422   \t2.91272e+26\t6.5064e+27 \t3749.64\t1.45633e+29\n",
            "15 \t405   \t1.3265e+26 \t2.96301e+27\t3505.98\t6.63213e+28\n",
            "Best individual is: add(ARG2, sub(add(add(ARG0, add(ARG2, truediv(add(truediv(ARG3, truediv(ARG0, sub(add(add(ARG0, add(ARG2, ARG1)), add(ARG2, mul(sub(ARG1, ARG2), mul(ARG2, ARG2)))), ARG3))), add(ARG0, ARG2)), ARG3))), add(ARG2, ARG1)), ARG0))\n",
            "with fitness: (3505.9777935584248,)\n"
          ]
        }
      ],
      "source": [
        "def main():\n",
        "    random.seed(64)\n",
        "\n",
        "    pop = toolbox.population(n=population_size)\n",
        "    hof = tools.HallOfFame(1)\n",
        "    stats = tools.Statistics(lambda ind: ind.fitness.values)\n",
        "    stats.register(\"Avg\", np.mean)\n",
        "    stats.register(\"Std\", np.std)\n",
        "    stats.register(\"Min\", np.min)\n",
        "    stats.register(\"Max\", np.max)\n",
        "\n",
        "    ## Edit here to set crossover, mutation annd elite probability\n",
        "    pop, log = algorithms.eaSimple(pop, toolbox, cxpb=0.8, mutpb=0.1, ngen=generations, stats=stats, halloffame=hof, verbose=True)\n",
        "\n",
        "    print(\"Best individual is: %s\\nwith fitness: %s\" % (hof[0], hof[0].fitness))\n",
        "\n",
        "    return pop, log, hof\n",
        "\n",
        "if __name__ == \"__main__\":\n",
        "    pop, log, hof = main()\n",
        "    # print ('hof is ', hof)\n",
        "\n",
        "# Predict sales using the best individual on test_data\n",
        "def predict_sales(best_individual, data):\n",
        "    predictions = []\n",
        "    for price, discount, advertisement, cost in zip(data['price'], data['discount'], data['advertisement'], data['cost']):\n",
        "        code = compile(str(best_individual), '<string>', 'eval')\n",
        "        globals_dict = {'truediv': lambda x, y: x / (y + 1e-9),\n",
        "                        'sub': operator.sub,\n",
        "                        'add': operator.add,\n",
        "                        'mul': operator.mul}\n",
        "        locals_dict = {'ARG0': price, 'ARG1': discount, 'ARG2': advertisement, 'ARG3': cost}\n",
        "        try:\n",
        "            prediction = eval(code, globals_dict, locals_dict)\n",
        "        except Exception as e:\n",
        "            print(\"Error predicting sales: \", e)\n",
        "            prediction = 0\n",
        "        predictions.append(prediction)\n",
        "    return predictions"
      ]
    },
    {
      "cell_type": "markdown",
      "id": "9b4bcab1",
      "metadata": {
        "id": "9b4bcab1"
      },
      "source": [
        "## Predict sales on test_data\n",
        "\n",
        "Using the best generated individual got from training the genetic programming model with training data."
      ]
    },
    {
      "cell_type": "code",
      "execution_count": 11,
      "id": "a13ac8b3",
      "metadata": {
        "id": "a13ac8b3"
      },
      "outputs": [],
      "source": [
        "# Predict sales\n",
        "predictions = predict_sales(hof[0], test_data)\n",
        "actual_sales = test_data['sales']\n"
      ]
    },
    {
      "cell_type": "markdown",
      "id": "820c64a7",
      "metadata": {
        "id": "820c64a7"
      },
      "source": [
        "## Plot the predictions\n",
        "\n",
        "As bar line graph using visualise function"
      ]
    },
    {
      "cell_type": "code",
      "execution_count": 12,
      "id": "0703ed76",
      "metadata": {
        "id": "0703ed76",
        "colab": {
          "base_uri": "https://localhost:8080/",
          "height": 472
        },
        "outputId": "a784fc6e-bf40-4c7a-be56-f28f0cb9655e"
      },
      "outputs": [
        {
          "output_type": "display_data",
          "data": {
            "text/plain": [
              "<Figure size 640x480 with 1 Axes>"
            ],
            "image/png": "[encoded data removed]"
          },
          "metadata": {}
        }
      ],
      "source": [
        "# Visualize the predictions\n",
        "visualize_predictions(actual_sales, predictions, 'Predicted vs Actual Sales')"
      ]
    },
    {
      "cell_type": "markdown",
      "id": "bd79a4e4",
      "metadata": {
        "id": "bd79a4e4"
      },
      "source": [
        "## Analyse the results\n",
        "\n",
        "Analyse the prediction with various error metrics"
      ]
    },
    {
      "cell_type": "code",
      "execution_count": 13,
      "id": "e9efdff0",
      "metadata": {
        "scrolled": true,
        "id": "e9efdff0",
        "colab": {
          "base_uri": "https://localhost:8080/"
        },
        "outputId": "87f50f0e-b97a-4d0f-d5d2-7dad9b2e8b59"
      },
      "outputs": [
        {
          "output_type": "stream",
          "name": "stdout",
          "text": [
            "Mean squared error between predicted and actual sales: 249.9749090212802\n",
            "R-squared value between predicted and actual sales: 0.5121300043295767\n",
            "MAE between predicted and actual sales: 15.387571084718212\n",
            "RMSE between predicted and actual sales: 15.810594834517778\n",
            "MPE between predicted and actual sales: 28.46549878202197%\n",
            "MAPE between predicted and actual sales: 28.46549878202197%\n",
            "RMSPE between predicted and actual sales: 28.984242461700315%\n",
            "CV of prediction: 0.4661963368272676\n"
          ]
        }
      ],
      "source": [
        "# Compare predicted sales with actual sales in test_data\n",
        "mse = ((actual_sales - predictions) ** 2).mean()\n",
        "r2 = r2_score(actual_sales, predictions)\n",
        "mae = np.mean(np.abs(actual_sales - predictions))\n",
        "rmse = np.sqrt(np.mean((actual_sales - predictions) ** 2))\n",
        "mpe = np.mean(np.abs((actual_sales - predictions) / actual_sales)) * 100\n",
        "mape = np.mean(np.abs((actual_sales - predictions) / actual_sales)) * 100\n",
        "rmspe = np.sqrt(np.mean(((actual_sales - predictions) / actual_sales) ** 2)) * 100\n",
        "cv = np.std(predictions) / np.mean(predictions)\n",
        "\n",
        "\n",
        "print(f\"Mean squared error between predicted and actual sales: {mse}\")\n",
        "print(f\"R-squared value between predicted and actual sales: {r2}\")\n",
        "print(f\"MAE between predicted and actual sales: {mae}\")\n",
        "print(f\"RMSE between predicted and actual sales: {rmse}\")\n",
        "print(f\"MPE between predicted and actual sales: {mpe}%\")\n",
        "print(f\"MAPE between predicted and actual sales: {mape}%\")\n",
        "print(f\"RMSPE between predicted and actual sales: {rmspe}%\")\n",
        "print(f\"CV of prediction: {cv}\")"
      ]
    },
    {
      "cell_type": "code",
      "execution_count": null,
      "id": "78fa08f8",
      "metadata": {
        "id": "78fa08f8"
      },
      "outputs": [],
      "source": []
    }
  ],
  "metadata": {
    "kernelspec": {
      "display_name": "Python 3 (ipykernel)",
      "language": "python",
      "name": "python3"
    },
    "language_info": {
      "codemirror_mode": {
        "name": "ipython",
        "version": 3
      },
      "file_extension": ".py",
      "mimetype": "text/x-python",
      "name": "python",
      "nbconvert_exporter": "python",
      "pygments_lexer": "ipython3",
      "version": "3.11.5"
    },
    "colab": {
      "provenance": [],
      "include_colab_link": true
    }
  },
  "nbformat": 4,
  "nbformat_minor": 5
}